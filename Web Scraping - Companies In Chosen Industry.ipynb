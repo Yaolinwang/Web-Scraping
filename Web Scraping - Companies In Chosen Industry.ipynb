{
 "cells": [
  {
   "cell_type": "markdown",
   "metadata": {},
   "source": [
    "## This is a Web Scraping Notebook for getting companies in chosen industry.\n",
    "\n",
    "<h4>The function take industry name as input, return all company in the chosen industry. </h4>\n",
    "<h4>Industry names are as being listed in Yahoo Finance: https://biz.yahoo.com/p/sum_conameu.html</h4>\n",
    "\n",
    "<h4>Contact: yw2953@columbia.edu</h4>"
   ]
  },
  {
   "cell_type": "code",
   "execution_count": 1,
   "metadata": {
    "collapsed": true
   },
   "outputs": [],
   "source": [
    "import pandas as pd\n",
    "from bs4 import BeautifulSoup\n",
    "import httplib2\n",
    "from bs4 import SoupStrainer\n",
    "\n",
    "from time import time\n",
    "from datetime import timedelta"
   ]
  },
  {
   "cell_type": "code",
   "execution_count": 2,
   "metadata": {
    "collapsed": false
   },
   "outputs": [],
   "source": [
    "def sector_symbols(sector_name):\n",
    "\n",
    "    http = httplib2.Http()\n",
    "    status,response = http.request('https://biz.yahoo.com/p/sum_conameu.html')\n",
    "    links=[]\n",
    "    for link in BeautifulSoup(response, parseOnlyThese=SoupStrainer(['a','href'])):\n",
    "        links.append(link)\n",
    "    link_list=[]\n",
    "    for link in links:\n",
    "        a=link\n",
    "        b=str(a)\n",
    "        c=b[b.find(\"href=\")+6:b.find(\"href=\")+21]\n",
    "        if 48<=ord(c[0])<=57:\n",
    "            link_list.append(b[b.find(\"href=\")+6:b.find(\"href=\")+21])\n",
    "\n",
    "    table_secotrs=pd.read_html(\"https://biz.yahoo.com/p/sum_conameu.html\")\n",
    "    sectors_name=table_secotrs[2][0][2:]\n",
    "    sectors_name.index=range(len(sectors_name))\n",
    "\n",
    "    for k in range(len(sectors_name)):\n",
    "        if sectors_name[k]==sector_name:\n",
    "            link=\"https://biz.yahoo.com/p/\"+link_list[k]\n",
    "            tables=pd.read_html(link)\n",
    "            symbol_list=[]\n",
    "            for thing in tables[2][0][5:]:\n",
    "                symbol=thing[thing.find(\"(\")+1:thing.find(\")\")]\n",
    "                left=thing[thing.find(\")\")+1:]\n",
    "                if left.find(\"(\") == -1:\n",
    "                    if symbol.find(\".\")<0:\n",
    "                        symbol_list.append(symbol)\n",
    "                else:\n",
    "                    symbol=left[left.find(\"(\")+1:left.find(\")\")]\n",
    "                    if symbol.find(\".\")<0:\n",
    "                        symbol_list.append(symbol)\n",
    "    return symbol_list"
   ]
  },
  {
   "cell_type": "code",
   "execution_count": 26,
   "metadata": {
    "collapsed": false
   },
   "outputs": [
    {
     "name": "stderr",
     "output_type": "stream",
     "text": [
      "D:\\Anaconda\\lib\\site-packages\\bs4\\__init__.py:128: UserWarning: The \"parseOnlyThese\" argument to the BeautifulSoup constructor has been renamed to \"parse_only.\"\n",
      "  'has been renamed to \"%s.\"' % (old_name, new_name))\n",
      "D:\\Anaconda\\lib\\site-packages\\bs4\\__init__.py:166: UserWarning: No parser was explicitly specified, so I'm using the best available HTML parser for this system (\"lxml\"). This usually isn't a problem, but if you run this code on another system, or in a different virtual environment, it may use a different parser and behave differently.\n",
      "\n",
      "To get rid of this warning, change this:\n",
      "\n",
      " BeautifulSoup([your markup])\n",
      "\n",
      "to this:\n",
      "\n",
      " BeautifulSoup([your markup], \"lxml\")\n",
      "\n",
      "  markup_type=markup_type))\n"
     ]
    },
    {
     "data": {
      "text/plain": [
       "['AER',\n",
       " 'AIRM',\n",
       " 'AAWW',\n",
       " 'AAIR',\n",
       " 'BICB',\n",
       " 'ERA',\n",
       " 'PAC',\n",
       " 'ASR',\n",
       " 'MIC',\n",
       " 'PHII',\n",
       " 'SKAS']"
      ]
     },
     "execution_count": 26,
     "metadata": {},
     "output_type": "execute_result"
    }
   ],
   "source": [
    "sector_symbols('Air Services, Other')"
   ]
  },
  {
   "cell_type": "code",
   "execution_count": null,
   "metadata": {
    "collapsed": true
   },
   "outputs": [],
   "source": []
  }
 ],
 "metadata": {
  "anaconda-cloud": {},
  "kernelspec": {
   "display_name": "Python [conda root]",
   "language": "python",
   "name": "conda-root-py"
  },
  "language_info": {
   "codemirror_mode": {
    "name": "ipython",
    "version": 3
   },
   "file_extension": ".py",
   "mimetype": "text/x-python",
   "name": "python",
   "nbconvert_exporter": "python",
   "pygments_lexer": "ipython3",
   "version": "3.5.2"
  }
 },
 "nbformat": 4,
 "nbformat_minor": 0
}
