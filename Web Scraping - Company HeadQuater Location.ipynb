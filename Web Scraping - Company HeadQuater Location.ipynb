{
 "cells": [
  {
   "cell_type": "markdown",
   "metadata": {},
   "source": [
    "## This is a Web Scraping Note book\n",
    "\n",
    "<h4>The first function take single symbol as input, return google map link. </h4>\n",
    "<h4>The second function take single symbol as input, return Lagtitute & Longtitute.</h4>\n",
    "<h4>Combine these two function together, you can get a company headquater location in a second.</h4>\n",
    "\n",
    "<h4>Copyright © Yaolin Wang 2017. All Rights Reserved. Contact: yw2953@columbia.edu</h4>"
   ]
  },
  {
   "cell_type": "code",
   "execution_count": 1,
   "metadata": {
    "collapsed": true
   },
   "outputs": [],
   "source": [
    "import requests  \n",
    "from lxml import html  \n",
    "import re  \n",
    "import pandas as pd\n",
    "from bs4 import BeautifulSoup"
   ]
  },
  {
   "cell_type": "code",
   "execution_count": 172,
   "metadata": {
    "collapsed": false
   },
   "outputs": [],
   "source": [
    "def company_address(symbol):\n",
    "    output=[]\n",
    "    url='https://www.google.com/finance?q='+str(symbol)\n",
    "    response = requests.get(url)\n",
    "    page_data_soup = BeautifulSoup(response.content,'lxml')\n",
    "    links=[]\n",
    "    possible_links = page_data_soup.find_all('a')\n",
    "    for link in possible_links:\n",
    "        if link.has_attr('href'):\n",
    "            links.append(link.attrs['href'])\n",
    "    for i in range(len(links)):\n",
    "        if links[i][7:10]=='map':\n",
    "            output.append(links[i])\n",
    "    return output"
   ]
  },
  {
   "cell_type": "code",
   "execution_count": 173,
   "metadata": {
    "collapsed": true
   },
   "outputs": [],
   "source": [
    "def get_location(symbol):\n",
    "    output=[]\n",
    "    url='https://www.google.com/finance?q='+str(symbol)\n",
    "    response = requests.get(url)\n",
    "    page_data_soup = BeautifulSoup(response.content,'lxml')\n",
    "    links=[]\n",
    "    possible_links = page_data_soup.find_all('a')\n",
    "    for link in possible_links:\n",
    "        if link.has_attr('href'):\n",
    "            links.append(link.attrs['href'])\n",
    "    for i in range(len(links)):\n",
    "        if links[i][7:10]=='map':\n",
    "            output.append(links[i])        \n",
    "    a=output\n",
    "    address=a[0][a[0].find(\"&\")+3:a[0].find(\"%\")]\n",
    "    url=\"https://maps.googleapis.com/maps/api/geocode/json?address=%s\" % (address)\n",
    "    response = requests.get(url)\n",
    "    json_data = response.json()\n",
    "    lat=json_data['results'][0]['geometry']['location']['lat']\n",
    "    lng=json_data['results'][0]['geometry']['location']['lng']\n",
    "    return lat,lng"
   ]
  },
  {
   "cell_type": "code",
   "execution_count": 174,
   "metadata": {
    "collapsed": false
   },
   "outputs": [
    {
     "data": {
      "text/plain": [
       "['http://maps.google.com/maps?ei=jdk9WLHnAoa7jAGum5DgCA&q=Bank+of+America+Corporate+Center+100+N+Tryon+St+CHARLOTTE+28255-0001+United+States%20(Bank+of+America+Corp)']"
      ]
     },
     "execution_count": 174,
     "metadata": {},
     "output_type": "execute_result"
    }
   ],
   "source": [
    "company_address('bac')"
   ]
  },
  {
   "cell_type": "code",
   "execution_count": 175,
   "metadata": {
    "collapsed": false
   },
   "outputs": [
    {
     "data": {
      "text/plain": [
       "(35.2274982, -80.84198119999999)"
      ]
     },
     "execution_count": 175,
     "metadata": {},
     "output_type": "execute_result"
    }
   ],
   "source": [
    "get_location('bac')"
   ]
  },
  {
   "cell_type": "code",
   "execution_count": 177,
   "metadata": {
    "collapsed": false
   },
   "outputs": [
    {
     "data": {
      "text/plain": [
       "['http://maps.google.com/maps?ei=ptk9WKHLG8yT2AaQt4OACQ&q=1601+Willow+Rd+MENLO+PARK+94025-1452+United+States%20(Facebook+Inc)']"
      ]
     },
     "execution_count": 177,
     "metadata": {},
     "output_type": "execute_result"
    }
   ],
   "source": [
    "company_address('fb')"
   ]
  },
  {
   "cell_type": "code",
   "execution_count": 178,
   "metadata": {
    "collapsed": false
   },
   "outputs": [
    {
     "data": {
      "text/plain": [
       "(37.4850546, -122.1473993)"
      ]
     },
     "execution_count": 178,
     "metadata": {},
     "output_type": "execute_result"
    }
   ],
   "source": [
    "get_location('fb')"
   ]
  },
  {
   "cell_type": "code",
   "execution_count": null,
   "metadata": {
    "collapsed": true
   },
   "outputs": [],
   "source": []
  }
 ],
 "metadata": {
  "anaconda-cloud": {},
  "kernelspec": {
   "display_name": "Python [conda root]",
   "language": "python",
   "name": "conda-root-py"
  },
  "language_info": {
   "codemirror_mode": {
    "name": "ipython",
    "version": 3
   },
   "file_extension": ".py",
   "mimetype": "text/x-python",
   "name": "python",
   "nbconvert_exporter": "python",
   "pygments_lexer": "ipython3",
   "version": "3.5.2"
  }
 },
 "nbformat": 4,
 "nbformat_minor": 1
}
