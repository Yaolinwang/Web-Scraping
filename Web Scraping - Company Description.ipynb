{
 "cells": [
  {
   "cell_type": "markdown",
   "metadata": {},
   "source": [
    "## This is a Web Scraping Notebook for getting company description.\n",
    "\n",
    "<h4>The first function take single symbol as input, return the company description. </h4>\n",
    "<h4>Company descriptions are from Google Finance.</h4>\n",
    "\n",
    "<h4>Contact: yw2953@columbia.edu</h4>"
   ]
  },
  {
   "cell_type": "code",
   "execution_count": 1,
   "metadata": {
    "collapsed": true
   },
   "outputs": [],
   "source": [
    "import requests  \n",
    "from lxml import html  \n",
    "import re  \n",
    "import pandas as pd\n",
    "from bs4 import BeautifulSoup"
   ]
  },
  {
   "cell_type": "code",
   "execution_count": 2,
   "metadata": {
    "collapsed": false
   },
   "outputs": [],
   "source": [
    "def company_description(symbol):\n",
    "    url='https://www.google.com/finance?q='+str(symbol)\n",
    "    response = requests.get(url)\n",
    "    try:\n",
    "        page_data_soup = BeautifulSoup(response.content,'lxml')\n",
    "        summary=page_data_soup.find('div',{'class':\"companySummary\"})\n",
    "        content=summary.text[1:summary.text.rfind(\".\")]\n",
    "        return content\n",
    "    except:\n",
    "        return \"Can not find this company description!\""
   ]
  },
  {
   "cell_type": "code",
   "execution_count": 3,
   "metadata": {
    "collapsed": false
   },
   "outputs": [
    {
     "data": {
      "text/plain": [
       "\"Apple Inc. (Apple) designs, manufactures and markets mobile communication and media devices, personal computers, and portable digital music players, and a variety of related software, services, peripherals, networking solutions, and third-party digital content and applications. The Company's products and services include iPhone, iPad, Mac, iPod, Apple TV, a portfolio of consumer and professional software applications, the iOS and OS X operating systems, iCloud, and a variety of accessory, service and support offerings. The Company also delivers digital content and applications through the iTunes Store, App StoreSM, iBookstoreSM, and Mac App Store. The Company distributes its products worldwide through its retail stores, online stores, and direct sales force, as well as through third-party cellular network carriers, wholesalers, retailers, and value-added resellers. In February 2012, the Company acquired app-search engine Chomp\""
      ]
     },
     "execution_count": 3,
     "metadata": {},
     "output_type": "execute_result"
    }
   ],
   "source": [
    "company_description('aapl')"
   ]
  },
  {
   "cell_type": "code",
   "execution_count": 51,
   "metadata": {
    "collapsed": false
   },
   "outputs": [
    {
     "data": {
      "text/plain": [
       "\"Alibaba Group Holding Limited is a holding company. The Company is engaged in online and mobile commerce through offering of products, services and technology that enable merchants, brands and other businesses to transform the way they market, sell and operate in the People's Republic of China (the PRC or China) and internationally. It operates through the provision of online and mobile commerce and related services segment. The Company provides retail and wholesale marketplaces available through both personal computer and mobile interfaces in the PRC and internationally. Retail marketplaces and services operated by the Company include the China online shopping destination (Taobao Marketplace); the China brands and retail platform (Tmall); the China group buying site that offers products by aggregating demand from consumers through limited time discounted sales (Juhuasuan), and the global consumer marketplace targeting consumers (AliExpress)\""
      ]
     },
     "execution_count": 51,
     "metadata": {},
     "output_type": "execute_result"
    }
   ],
   "source": [
    "company_description('baba')"
   ]
  },
  {
   "cell_type": "code",
   "execution_count": 52,
   "metadata": {
    "collapsed": false
   },
   "outputs": [
    {
     "data": {
      "text/plain": [
       "'Bank of America Corporation is a bank holding and financial holding company. The Company is a financial institution, serving individual consumers, small- and middle-market businesses, institutional investors, corporations and governments with various banking, investing, asset management and other financial and risk management products and services. Its segments include Consumer Banking, which provides credit, banking and investment products and services to consumers and small businesses; Global Wealth & Investment Management, which offers solutions, such as investment management, brokerage, banking and retirement products; Global Banking, which provides lending-related products and services, integrated working capital management and treasury solutions; Global Markets, which offers sales and trading services; Legacy Assets & Servicing, which provides mortgage servicing activities, and All Other, which consists of asset and liability management activities, equity investments and others'"
      ]
     },
     "execution_count": 52,
     "metadata": {},
     "output_type": "execute_result"
    }
   ],
   "source": [
    "company_description('bac')"
   ]
  },
  {
   "cell_type": "code",
   "execution_count": 53,
   "metadata": {
    "collapsed": false
   },
   "outputs": [
    {
     "data": {
      "text/plain": [
       "\"The Goldman Sachs Group, Inc. is a bank holding company and a financial holding company. The Company operates through four segments: Investment Banking, Institutional Client Services, Investing & Lending, and Investment Management. The Company's Investment Banking segment provides financial advisory services, which include advisory assignments with respect to mergers and acquisitions, divestitures, corporate defense activities, restructurings, spin-offs and risk management. The Company's Institutional Client Services segment makes markets and facilitates client transactions in fixed income, equity, currency and commodity products. The Company's investing and lending activities include its investing and relationship lending activities across various asset classes, primarily debt securities and loans, public and private equity securities, and real estate. The Company's investment management segment provides investment and wealth advisory services\""
      ]
     },
     "execution_count": 53,
     "metadata": {},
     "output_type": "execute_result"
    }
   ],
   "source": [
    "company_description('GS')"
   ]
  },
  {
   "cell_type": "code",
   "execution_count": 54,
   "metadata": {
    "collapsed": false
   },
   "outputs": [
    {
     "data": {
      "text/plain": [
       "'Tesla Motors, Inc. designs, develops, manufactures and sells electric vehicles and energy storage products. The Company produces and sells two electric vehicles: the Model S sedan and the Model X sport utility vehicle (SUV). The Company has delivered over 107,000 Model S vehicles across the world. In addition to developing its own vehicles, it sells energy storage products. Its energy storage products include the seven kilowatt-hour and 10 kilowatt-hour Powerwall for residential applications, and the 100 kilowatt-hour Powerpack for commercial and industrial applications. The Company delivers energy storage products under the Tesla Energy brand. It manufactures its products primarily at its facilities in Fremont, California, Lathrop, California, Tilburg, Netherlands and at its Gigafactory near Reno, Nevada. The Company uses battery packs manufactured at the Gigafactory for its energy storage products'"
      ]
     },
     "execution_count": 54,
     "metadata": {},
     "output_type": "execute_result"
    }
   ],
   "source": [
    "company_description('TSLA')"
   ]
  },
  {
   "cell_type": "code",
   "execution_count": 55,
   "metadata": {
    "collapsed": false
   },
   "outputs": [
    {
     "data": {
      "text/plain": [
       "'Can not find this company description!'"
      ]
     },
     "execution_count": 55,
     "metadata": {},
     "output_type": "execute_result"
    }
   ],
   "source": [
    "company_description('KEVIN')"
   ]
  },
  {
   "cell_type": "code",
   "execution_count": null,
   "metadata": {
    "collapsed": true
   },
   "outputs": [],
   "source": []
  }
 ],
 "metadata": {
  "anaconda-cloud": {},
  "kernelspec": {
   "display_name": "Python [conda root]",
   "language": "python",
   "name": "conda-root-py"
  },
  "language_info": {
   "codemirror_mode": {
    "name": "ipython",
    "version": 3
   },
   "file_extension": ".py",
   "mimetype": "text/x-python",
   "name": "python",
   "nbconvert_exporter": "python",
   "pygments_lexer": "ipython3",
   "version": "3.5.2"
  }
 },
 "nbformat": 4,
 "nbformat_minor": 1
}
